{
  "nbformat": 4,
  "nbformat_minor": 0,
  "metadata": {
    "colab": {
      "provenance": [],
      "collapsed_sections": [
        "9p9x2DSakVRU",
        "ahqkthZsktGO",
        "wgmLRIztkT6Z",
        "NWGLWvK1KWa1",
        "oXXofqLZ6goL",
        "BtiwF8GKodC8",
        "Wcz04bAW8euu"
      ]
    },
    "kernelspec": {
      "name": "python3",
      "display_name": "Python 3"
    },
    "language_info": {
      "name": "python"
    }
  },
  "cells": [
    {
      "cell_type": "markdown",
      "source": [
        "#Project Delta Airlines - Predictive Attrition\n",
        "Code by Cynthia Widjaja\n",
        "for Team 13"
      ],
      "metadata": {
        "id": "3uAvPtl_4U3Z"
      }
    },
    {
      "cell_type": "markdown",
      "source": [
        "##Install and load necessary libraries"
      ],
      "metadata": {
        "id": "9p9x2DSakVRU"
      }
    },
    {
      "cell_type": "code",
      "execution_count": 84,
      "metadata": {
        "colab": {
          "base_uri": "https://localhost:8080/"
        },
        "id": "OAfNEn_DjfNr",
        "outputId": "5bd65702-2e97-47f9-f735-13c48d42cc82"
      },
      "outputs": [
        {
          "output_type": "stream",
          "name": "stdout",
          "text": [
            "Requirement already satisfied: pandas in /usr/local/lib/python3.10/dist-packages (2.2.2)\n",
            "Requirement already satisfied: scikit-learn in /usr/local/lib/python3.10/dist-packages (1.5.2)\n",
            "Requirement already satisfied: numpy>=1.22.4 in /usr/local/lib/python3.10/dist-packages (from pandas) (1.26.4)\n",
            "Requirement already satisfied: python-dateutil>=2.8.2 in /usr/local/lib/python3.10/dist-packages (from pandas) (2.8.2)\n",
            "Requirement already satisfied: pytz>=2020.1 in /usr/local/lib/python3.10/dist-packages (from pandas) (2024.2)\n",
            "Requirement already satisfied: tzdata>=2022.7 in /usr/local/lib/python3.10/dist-packages (from pandas) (2024.2)\n",
            "Requirement already satisfied: scipy>=1.6.0 in /usr/local/lib/python3.10/dist-packages (from scikit-learn) (1.13.1)\n",
            "Requirement already satisfied: joblib>=1.2.0 in /usr/local/lib/python3.10/dist-packages (from scikit-learn) (1.4.2)\n",
            "Requirement already satisfied: threadpoolctl>=3.1.0 in /usr/local/lib/python3.10/dist-packages (from scikit-learn) (3.5.0)\n",
            "Requirement already satisfied: six>=1.5 in /usr/local/lib/python3.10/dist-packages (from python-dateutil>=2.8.2->pandas) (1.16.0)\n"
          ]
        }
      ],
      "source": [
        "!pip install pandas scikit-learn"
      ]
    },
    {
      "cell_type": "code",
      "source": [
        "import pandas as pd\n",
        "import re\n",
        "import numpy as np\n",
        "import matplotlib.pyplot as plt\n",
        "import seaborn as sns\n",
        "from datetime import datetime\n",
        "from sklearn.model_selection import train_test_split, StratifiedKFold, GridSearchCV\n",
        "from sklearn.metrics import accuracy_score, mean_squared_error, mean_absolute_error, r2_score, confusion_matrix, classification_report\n",
        "from sklearn.linear_model import LassoCV, LinearRegression, LogisticRegression\n",
        "from sklearn.preprocessing import OneHotEncoder, StandardScaler\n",
        "from sklearn.compose import ColumnTransformer\n",
        "from sklearn.pipeline import Pipeline\n",
        "from sklearn.ensemble import RandomForestClassifier, RandomForestRegressor"
      ],
      "metadata": {
        "id": "cMLh1OqjnCix"
      },
      "execution_count": 85,
      "outputs": []
    },
    {
      "cell_type": "markdown",
      "source": [
        "##Load the dataset"
      ],
      "metadata": {
        "id": "ahqkthZsktGO"
      }
    },
    {
      "cell_type": "code",
      "source": [
        "# Load the dataset\n",
        "file_path = '/content/drive/MyDrive/0 Delta Clicked /Delta Airlines Cleansed Data.xlsx'\n",
        "df1 = pd.read_excel(file_path, sheet_name='Frequent Flier Cleansed')\n",
        "df2 = pd.read_excel(file_path, sheet_name='Flier Upcoming Flights')\n",
        "\n",
        "# Check the first few rows to understand the structure\n",
        "print(\"Sheet 1:\\n\", df1.head())\n",
        "print(\"Sheet 1:\\n\", df2.head())\n",
        "\n",
        "\n",
        "# Get the number of rows and columns in the DataFrame\n",
        "num_rows, num_columns = df1.shape\n",
        "\n",
        "# Print the results\n",
        "print(f'Number of data entries (rows) in the Sheet 1: {num_rows}')\n",
        "print(f'Number of columns in the Sheet 1: {num_columns}')\n",
        "\n",
        "# Get the number of rows and columns in the DataFrame\n",
        "num_rows2, num_columns2 = df2.shape\n",
        "\n",
        "# Print the results\n",
        "print(f'Number of data entries (rows) in the Sheet 2: {num_rows2}')\n",
        "print(f'Number of columns in the Sheet 2: {num_columns2}')"
      ],
      "metadata": {
        "colab": {
          "base_uri": "https://localhost:8080/"
        },
        "id": "B-FH8umVkswX",
        "outputId": "b7276ebc-278d-4d89-cb8f-66c386947438"
      },
      "execution_count": 86,
      "outputs": [
        {
          "output_type": "stream",
          "name": "stdout",
          "text": [
            "Sheet 1:\n",
            "   Record Creation Date  Join Date  Frequent Flier Number First Name Last Name  \\\n",
            "0           2024-02-27 1988-07-08           7.234618e+09     Debbie    Spears   \n",
            "1           2021-03-07 1988-07-08           7.234618e+09     Debbie    Spears   \n",
            "2           2023-01-31 1988-07-08           7.234618e+09     Debbie    Spears   \n",
            "3           2021-08-21 2022-06-16           5.511217e+08       Kyle     Boone   \n",
            "4           2022-03-01 2022-06-16           5.511217e+08       Kyle     Boone   \n",
            "\n",
            "    Inquiry Type Most Recent Flight #  Lounge Used? Departing Airport  \\\n",
            "0  Flight Status            G35206241         False               DFW   \n",
            "1     New Flight            V81311927          True               JFK   \n",
            "2  Cancel Flight            H82295055         False               MIA   \n",
            "3     New Flight            E39886834          True               SEA   \n",
            "4     New Flight            R04390271          True               SFO   \n",
            "\n",
            "  Arrival Airport  Planned Snack?  Additional Snack?  \\\n",
            "0             DEN             0.0                1.0   \n",
            "1             SFO             0.0                1.0   \n",
            "2             ORD             0.0                0.0   \n",
            "3             DEN             0.0                1.0   \n",
            "4             DFW             0.0                0.0   \n",
            "\n",
            "   # of Included Checked Bags  Total # of Checked Bags  Flight Delayed?  \n",
            "0                         2.0                      7.0             True  \n",
            "1                         1.0                      6.0            False  \n",
            "2                         2.0                      5.0             True  \n",
            "3                         3.0                      8.0            False  \n",
            "4                         3.0                      5.0            False  \n",
            "Sheet 1:\n",
            "    Join Date  Frequent Flier Number First Name Last Name Flight Number  \\\n",
            "0 1988-07-08             7234617746     Debbie    Spears        DL1408   \n",
            "1 1988-07-08             7234617746     Debbie    Spears        DL3882   \n",
            "2 1988-07-08             7234617746     Debbie    Spears        DL4173   \n",
            "3 1988-07-08             7234617746     Debbie    Spears        DL8231   \n",
            "4 1988-07-08             7234617746     Debbie    Spears        DL9014   \n",
            "\n",
            "  Flight Date Departing City Arrival City Departure Time Departure Time Zone  \\\n",
            "0  2025-04-14        Houston       London       09:38:00                 CST   \n",
            "1  2025-04-29         Boston        Dubai       02:38:00                 MST   \n",
            "2  2024-10-05          Dubai      Toronto       09:38:00                 UTC   \n",
            "3  2025-04-30        Atlanta       Boston       00:38:00                 PST   \n",
            "4  2025-08-31         Sydney     New York       22:38:00                 UTC   \n",
            "\n",
            "  Arrival Time Arrival Time Zone        Cost Car Rental Addon $ Hotel Addon $  \n",
            "0     15:38:00               UTC  613.83 USD         210.53 USD    195.49 USD  \n",
            "1     07:38:00               UTC   741.1 AUD          51.58 AUD     323.6 AUD  \n",
            "2     14:38:00               UTC  191.79 AUD         151.44 AUD    369.05 AUD  \n",
            "3     12:38:00               UTC  515.74 USD         164.58 USD    111.11 USD  \n",
            "4     05:38:00               UTC  352.38 JPY         201.22 JPY    128.41 JPY  \n",
            "Number of data entries (rows) in the Sheet 1: 10211\n",
            "Number of columns in the Sheet 1: 15\n",
            "Number of data entries (rows) in the Sheet 2: 15078\n",
            "Number of columns in the Sheet 2: 15\n"
          ]
        }
      ]
    },
    {
      "cell_type": "markdown",
      "source": [
        "##Handle missing values, if any"
      ],
      "metadata": {
        "id": "wgmLRIztkT6Z"
      }
    },
    {
      "cell_type": "code",
      "source": [
        "# Check for missing values for Sheet 1 - Frequent Flier Cleansed\n",
        "print(df1.isnull().sum())"
      ],
      "metadata": {
        "colab": {
          "base_uri": "https://localhost:8080/"
        },
        "id": "4pXDsKkWlOjJ",
        "outputId": "eeed7a12-5bf2-41e0-a42c-5e2478ec73ab"
      },
      "execution_count": 87,
      "outputs": [
        {
          "output_type": "stream",
          "name": "stdout",
          "text": [
            "Record Creation Date          1000\n",
            "Join Date                     1000\n",
            "Frequent Flier Number         1000\n",
            "First Name                    1000\n",
            "Last Name                     1000\n",
            "Inquiry Type                  1000\n",
            "Most Recent Flight #          1000\n",
            "Lounge Used?                     0\n",
            "Departing Airport             1000\n",
            "Arrival Airport               1000\n",
            "Planned Snack?                1000\n",
            "Additional Snack?             1000\n",
            "# of Included Checked Bags    1000\n",
            "Total # of Checked Bags       1000\n",
            "Flight Delayed?                  0\n",
            "dtype: int64\n"
          ]
        }
      ]
    },
    {
      "cell_type": "code",
      "source": [
        "# Check for missing values for Sheet 2 - Flier Upcoming Flights\n",
        "print(df2.isnull().sum())"
      ],
      "metadata": {
        "colab": {
          "base_uri": "https://localhost:8080/"
        },
        "id": "65t6thp45lAS",
        "outputId": "0d83b662-6eb2-4380-a354-3b12ae8b8a10"
      },
      "execution_count": 88,
      "outputs": [
        {
          "output_type": "stream",
          "name": "stdout",
          "text": [
            "Join Date                0\n",
            "Frequent Flier Number    0\n",
            "First Name               0\n",
            "Last Name                0\n",
            "Flight Number            0\n",
            "Flight Date              0\n",
            "Departing City           0\n",
            "Arrival City             0\n",
            "Departure Time           0\n",
            "Departure Time Zone      0\n",
            "Arrival Time             0\n",
            "Arrival Time Zone        0\n",
            "Cost                     0\n",
            "Car Rental Addon $       0\n",
            "Hotel Addon $            0\n",
            "dtype: int64\n"
          ]
        }
      ]
    },
    {
      "cell_type": "markdown",
      "source": [
        "## Drop rows with any missing values"
      ],
      "metadata": {
        "id": "NWGLWvK1KWa1"
      }
    },
    {
      "cell_type": "code",
      "source": [
        "# Drop rows with any missing values\n",
        "df1 = df1.dropna()\n",
        "\n",
        "# Display the number of rows after dropping\n",
        "print(f'Number of rows after dropping incomplete data: {df1.shape[0]}')\n",
        "\n",
        "# Optional: If you want to reset the index after dropping rows\n",
        "df1.reset_index(drop=True, inplace=True)\n",
        "\n",
        "# Optional: Show the cleaned DataFrame\n",
        "print(df1.head())"
      ],
      "metadata": {
        "colab": {
          "base_uri": "https://localhost:8080/"
        },
        "id": "MYOdj-X1IrE8",
        "outputId": "a9bd0df8-99df-49c0-ec47-9bf35997a703"
      },
      "execution_count": 89,
      "outputs": [
        {
          "output_type": "stream",
          "name": "stdout",
          "text": [
            "Number of rows after dropping incomplete data: 9211\n",
            "  Record Creation Date  Join Date  Frequent Flier Number First Name Last Name  \\\n",
            "0           2024-02-27 1988-07-08           7.234618e+09     Debbie    Spears   \n",
            "1           2021-03-07 1988-07-08           7.234618e+09     Debbie    Spears   \n",
            "2           2023-01-31 1988-07-08           7.234618e+09     Debbie    Spears   \n",
            "3           2021-08-21 2022-06-16           5.511217e+08       Kyle     Boone   \n",
            "4           2022-03-01 2022-06-16           5.511217e+08       Kyle     Boone   \n",
            "\n",
            "    Inquiry Type Most Recent Flight #  Lounge Used? Departing Airport  \\\n",
            "0  Flight Status            G35206241         False               DFW   \n",
            "1     New Flight            V81311927          True               JFK   \n",
            "2  Cancel Flight            H82295055         False               MIA   \n",
            "3     New Flight            E39886834          True               SEA   \n",
            "4     New Flight            R04390271          True               SFO   \n",
            "\n",
            "  Arrival Airport  Planned Snack?  Additional Snack?  \\\n",
            "0             DEN             0.0                1.0   \n",
            "1             SFO             0.0                1.0   \n",
            "2             ORD             0.0                0.0   \n",
            "3             DEN             0.0                1.0   \n",
            "4             DFW             0.0                0.0   \n",
            "\n",
            "   # of Included Checked Bags  Total # of Checked Bags  Flight Delayed?  \n",
            "0                         2.0                      7.0             True  \n",
            "1                         1.0                      6.0            False  \n",
            "2                         2.0                      5.0             True  \n",
            "3                         3.0                      8.0            False  \n",
            "4                         3.0                      5.0            False  \n"
          ]
        }
      ]
    },
    {
      "cell_type": "code",
      "source": [
        "# Recheck the data for Sheet 1\n",
        "# Check for missing values for Sheet 1 - Frequent Flier Cleansed\n",
        "print(df1.isnull().sum())"
      ],
      "metadata": {
        "colab": {
          "base_uri": "https://localhost:8080/"
        },
        "id": "XZA54oJd53i-",
        "outputId": "da23dafa-ea3a-446c-ef7f-a4b093536ec7"
      },
      "execution_count": 90,
      "outputs": [
        {
          "output_type": "stream",
          "name": "stdout",
          "text": [
            "Record Creation Date          0\n",
            "Join Date                     0\n",
            "Frequent Flier Number         0\n",
            "First Name                    0\n",
            "Last Name                     0\n",
            "Inquiry Type                  0\n",
            "Most Recent Flight #          0\n",
            "Lounge Used?                  0\n",
            "Departing Airport             0\n",
            "Arrival Airport               0\n",
            "Planned Snack?                0\n",
            "Additional Snack?             0\n",
            "# of Included Checked Bags    0\n",
            "Total # of Checked Bags       0\n",
            "Flight Delayed?               0\n",
            "dtype: int64\n"
          ]
        }
      ]
    },
    {
      "cell_type": "markdown",
      "source": [
        "## Remove currency from the Cost, Car Rental Addon and Hotel Addon and add Cost in USD, Car Rental Addon in USD and Hotel Addon in USD, preserve the original currency in another column"
      ],
      "metadata": {
        "id": "oXXofqLZ6goL"
      }
    },
    {
      "cell_type": "code",
      "source": [
        "# Manual currency exchange, date Oct 28, 2024, 10AM\n",
        "# https://www.xe.com/currencyconverter/\n",
        "# Current exchange rates to USD\n",
        "exchange_rates = {\n",
        "    'USD': 1.0,\n",
        "    'MXN': 20.008,  # 1 USD = 20.008 MXN\n",
        "    'AED': 3.67,    # 1 USD = 3.67 AED\n",
        "    'AUD': 1.61,    # 1 USD = 1.61 AUD\n",
        "    'JPY': 149.64,  # 1 USD = 149.64 JPY\n",
        "    'CAD': 1.39,    # 1 USD = 1.39 CAD\n",
        "    'BRL': 5.71,    # 1 USD = 5.71 BRL\n",
        "    'GBP': 0.77,    # 1 USD = 0.77 GBP\n",
        "    'EUR': 0.92,    # 1 USD = 0.92 EUR\n",
        "    'HKD': 7.85     # 1 USD = 7.85 HKD\n",
        "}"
      ],
      "metadata": {
        "id": "G1f0yGk06gZN"
      },
      "execution_count": 91,
      "outputs": []
    },
    {
      "cell_type": "code",
      "source": [
        "\n",
        "\n",
        "# Function to extract numeric value and convert to USD\n",
        "def convert_to_usd(value, exchange_rates):\n",
        "    currency_code = value[-3:]  # Assuming the last 3 characters are the currency code\n",
        "    amount = float(value[:-4])  # Convert everything except the last 3 characters and a space to a float\n",
        "    # Convert to USD using the provided exchange rate, default to 1 if currency not found\n",
        "    amount_in_usd = amount * exchange_rates.get(currency_code, 1)\n",
        "    return currency_code, amount_in_usd\n",
        "\n",
        "# Apply the function to each relevant column in df2\n",
        "for column in [\"Cost\", \"Car Rental Addon $\", \"Hotel Addon $\"]:\n",
        "    df2[f\"{column} Currency\"], df2[f\"{column} in USD\"] = zip(*df2[column].apply(lambda x: convert_to_usd(x, exchange_rates)))\n",
        "\n",
        "# Display the updated DataFrame\n",
        "print(df2)"
      ],
      "metadata": {
        "colab": {
          "base_uri": "https://localhost:8080/"
        },
        "id": "NOPUsW937TLY",
        "outputId": "7bd55861-25f0-4d14-b062-2bd63f489ce0"
      },
      "execution_count": 92,
      "outputs": [
        {
          "output_type": "stream",
          "name": "stdout",
          "text": [
            "       Join Date  Frequent Flier Number First Name Last Name Flight Number  \\\n",
            "0     1988-07-08             7234617746     Debbie    Spears        DL1408   \n",
            "1     1988-07-08             7234617746     Debbie    Spears        DL3882   \n",
            "2     1988-07-08             7234617746     Debbie    Spears        DL4173   \n",
            "3     1988-07-08             7234617746     Debbie    Spears        DL8231   \n",
            "4     1988-07-08             7234617746     Debbie    Spears        DL9014   \n",
            "...          ...                    ...        ...       ...           ...   \n",
            "15073 2007-03-24               64007954      Katie  Martinez        DL3710   \n",
            "15074 2007-03-24               64007954      Katie  Martinez        DL5103   \n",
            "15075 2007-03-24               64007954      Katie  Martinez        DL2399   \n",
            "15076 2007-03-24               64007954      Katie  Martinez        DL3168   \n",
            "15077 2007-03-24               64007954      Katie  Martinez        DL6168   \n",
            "\n",
            "      Flight Date   Departing City Arrival City Departure Time  \\\n",
            "0      2025-04-14          Houston       London       09:38:00   \n",
            "1      2025-04-29           Boston        Dubai       02:38:00   \n",
            "2      2024-10-05            Dubai      Toronto       09:38:00   \n",
            "3      2025-04-30          Atlanta       Boston       00:38:00   \n",
            "4      2025-08-31           Sydney     New York       22:38:00   \n",
            "...           ...              ...          ...            ...   \n",
            "15073  2024-11-29            Miami        Tokyo       00:38:00   \n",
            "15074  2025-07-09            Tokyo  Mexico City       07:38:00   \n",
            "15075  2025-04-07  Washington D.C.  Los Angeles       22:38:00   \n",
            "15076  2024-10-28          Toronto       Boston       01:38:00   \n",
            "15077  2024-09-18            Miami       Sydney       05:38:00   \n",
            "\n",
            "      Departure Time Zone  ... Arrival Time Zone        Cost  \\\n",
            "0                     CST  ...               UTC  613.83 USD   \n",
            "1                     MST  ...               UTC   741.1 AUD   \n",
            "2                     UTC  ...               UTC  191.79 AUD   \n",
            "3                     PST  ...               UTC  515.74 USD   \n",
            "4                     UTC  ...               UTC  352.38 JPY   \n",
            "...                   ...  ...               ...         ...   \n",
            "15073                 CST  ...               UTC  765.05 EUR   \n",
            "15074                 UTC  ...               UTC   462.7 EUR   \n",
            "15075                 PST  ...               EST  601.06 USD   \n",
            "15076                 UTC  ...               PST  899.88 HKD   \n",
            "15077                 PST  ...               UTC  359.76 JPY   \n",
            "\n",
            "      Car Rental Addon $ Hotel Addon $ Cost Currency Cost in USD  \\\n",
            "0             210.53 USD    195.49 USD           USD    613.8300   \n",
            "1              51.58 AUD     323.6 AUD           AUD   1193.1710   \n",
            "2             151.44 AUD    369.05 AUD           AUD    308.7819   \n",
            "3             164.58 USD    111.11 USD           USD    515.7400   \n",
            "4             201.22 JPY    128.41 JPY           JPY  52730.1432   \n",
            "...                  ...           ...           ...         ...   \n",
            "15073         225.49 EUR    154.44 EUR           EUR    703.8460   \n",
            "15074         249.34 EUR    445.65 EUR           EUR    425.6840   \n",
            "15075         270.47 USD    420.44 USD           USD    601.0600   \n",
            "15076         163.61 HKD    199.83 HKD           HKD   7064.0580   \n",
            "15077         258.01 JPY    357.11 JPY           JPY  53834.4864   \n",
            "\n",
            "       Car Rental Addon $ Currency Car Rental Addon $ in USD  \\\n",
            "0                              USD                  210.5300   \n",
            "1                              AUD                   83.0438   \n",
            "2                              AUD                  243.8184   \n",
            "3                              USD                  164.5800   \n",
            "4                              JPY                30110.5608   \n",
            "...                            ...                       ...   \n",
            "15073                          EUR                  207.4508   \n",
            "15074                          EUR                  229.3928   \n",
            "15075                          USD                  270.4700   \n",
            "15076                          HKD                 1284.3385   \n",
            "15077                          JPY                38608.6164   \n",
            "\n",
            "       Hotel Addon $ Currency Hotel Addon $ in USD  \n",
            "0                         USD             195.4900  \n",
            "1                         AUD             520.9960  \n",
            "2                         AUD             594.1705  \n",
            "3                         USD             111.1100  \n",
            "4                         JPY           19215.2724  \n",
            "...                       ...                  ...  \n",
            "15073                     EUR             142.0848  \n",
            "15074                     EUR             409.9980  \n",
            "15075                     USD             420.4400  \n",
            "15076                     HKD            1568.6655  \n",
            "15077                     JPY           53437.9404  \n",
            "\n",
            "[15078 rows x 21 columns]\n"
          ]
        }
      ]
    },
    {
      "cell_type": "markdown",
      "source": [
        "## Removing outliers from certain features"
      ],
      "metadata": {
        "id": "BtiwF8GKodC8"
      }
    },
    {
      "cell_type": "code",
      "source": [
        "# Histogram for # of Included Checked Bags\n",
        "plt.figure(figsize=(10, 6))\n",
        "sns.histplot(df1['# of Included Checked Bags'], bins=30, kde=True)\n",
        "plt.title('Histogram of # of Included Checked Bags')\n",
        "plt.show()\n",
        "\n",
        "# Histogram for Total # of Checked Bags\n",
        "plt.figure(figsize=(10, 6))\n",
        "sns.histplot(df1['Total # of Checked Bags'], bins=30, kde=True)\n",
        "plt.title('Histogram of Total # of Checked Bags')\n",
        "plt.show()"
      ],
      "metadata": {
        "colab": {
          "base_uri": "https://localhost:8080/",
          "height": 1000
        },
        "id": "hOBIGzFvpTC8",
        "outputId": "f5a6ff11-b2ce-430a-d4d8-78ed3b8b4b9d"
      },
      "execution_count": 93,
      "outputs": [
        {
          "output_type": "display_data",
          "data": {
            "text/plain": [
              "<Figure size 1000x600 with 1 Axes>"
            ],
            "image/png": "[encoded data removed]"
          },
          "metadata": {}
        },
        {
          "output_type": "display_data",
          "data": {
            "text/plain": [
              "<Figure size 1000x600 with 1 Axes>"
            ],
            "image/png": "[encoded data removed]"
          },
          "metadata": {}
        }
      ]
    },
    {
      "cell_type": "code",
      "source": [
        "# Define a function to identify outliers based on IQR\n",
        "def find_outliers_iqr(data, column):\n",
        "    Q1 = data[column].quantile(0.25)\n",
        "    Q3 = data[column].quantile(0.75)\n",
        "    IQR = Q3 - Q1\n",
        "    lower_bound = Q1 - 1.5 * IQR\n",
        "    upper_bound = Q3 + 1.5 * IQR\n",
        "    outliers = data[(data[column] < lower_bound) | (data[column] > upper_bound)]\n",
        "    return outliers\n",
        "\n",
        "# Check for outliers in the USD-converted columns\n",
        "for column in ['Cost in USD', 'Car Rental Addon $ in USD', 'Hotel Addon $ in USD']:\n",
        "    outliers = find_outliers_iqr(df2, column)\n",
        "    print(f\"Outliers in {column}:\\n\", outliers)"
      ],
      "metadata": {
        "colab": {
          "base_uri": "https://localhost:8080/"
        },
        "id": "rtxJEjxh6O0n",
        "outputId": "7c20f4b6-e82e-4729-afe8-78c09594f042"
      },
      "execution_count": 94,
      "outputs": [
        {
          "output_type": "stream",
          "name": "stdout",
          "text": [
            "Outliers in Cost in USD:\n",
            "        Join Date  Frequent Flier Number First Name Last Name Flight Number  \\\n",
            "4     1988-07-08             7234617746     Debbie    Spears        DL9014   \n",
            "5     1988-07-08             7234617746     Debbie    Spears        DL7806   \n",
            "8     2022-06-16              551121699       Kyle     Boone        DL8341   \n",
            "30    1995-11-01             3414172587    Abigail      Dean        DL6783   \n",
            "31    2009-02-23             5259235142    Richard     Munoz        DL3688   \n",
            "...          ...                    ...        ...       ...           ...   \n",
            "15063 2018-11-15             2557356607     Jeremy       Kim        DL1885   \n",
            "15064 2018-11-15             2557356607     Jeremy       Kim        DL6957   \n",
            "15068 2018-11-15             2557356607     Jeremy       Kim        DL5264   \n",
            "15069 2018-11-15             2557356607     Jeremy       Kim        DL8406   \n",
            "15077 2007-03-24               64007954      Katie  Martinez        DL6168   \n",
            "\n",
            "      Flight Date  Departing City     Arrival City Departure Time  \\\n",
            "4      2025-08-31          Sydney         New York       22:38:00   \n",
            "5      2024-11-06  Rio de Janeiro           Dallas       00:38:00   \n",
            "8      2025-01-31          Sydney         New York       02:38:00   \n",
            "30     2024-11-04          Dallas   Rio de Janeiro       03:38:00   \n",
            "31     2025-08-14          Sydney      Mexico City       03:38:00   \n",
            "...           ...             ...              ...            ...   \n",
            "15063  2024-09-12  Rio de Janeiro           Berlin       02:38:00   \n",
            "15064  2025-07-17          Boston           Sydney       08:38:00   \n",
            "15068  2025-05-16  Rio de Janeiro  Washington D.C.       09:38:00   \n",
            "15069  2025-01-23  Rio de Janeiro          Atlanta       09:38:00   \n",
            "15077  2024-09-18           Miami           Sydney       05:38:00   \n",
            "\n",
            "      Departure Time Zone  ... Arrival Time Zone        Cost  \\\n",
            "4                     UTC  ...               UTC  352.38 JPY   \n",
            "5                     UTC  ...               EST  497.17 MXN   \n",
            "8                     UTC  ...               EST  918.58 JPY   \n",
            "30                    UTC  ...               UTC  654.87 MXN   \n",
            "31                    UTC  ...               UTC  915.64 JPY   \n",
            "...                   ...  ...               ...         ...   \n",
            "15063                 UTC  ...               UTC  451.54 MXN   \n",
            "15064                 PST  ...               UTC  249.07 JPY   \n",
            "15068                 UTC  ...               UTC  455.01 MXN   \n",
            "15069                 UTC  ...               MST   583.1 MXN   \n",
            "15077                 PST  ...               UTC  359.76 JPY   \n",
            "\n",
            "      Car Rental Addon $ Hotel Addon $ Cost Currency   Cost in USD  \\\n",
            "4             201.22 JPY    128.41 JPY           JPY   52730.14320   \n",
            "5              94.68 MXN    462.26 MXN           MXN    9947.37736   \n",
            "8             293.44 JPY    153.79 JPY           JPY  137456.31120   \n",
            "30             210.3 MXN    451.16 MXN           MXN   13102.63896   \n",
            "31            163.86 JPY    496.12 JPY           JPY  137016.36960   \n",
            "...                  ...           ...           ...           ...   \n",
            "15063         243.36 MXN    315.22 MXN           MXN    9034.41232   \n",
            "15064         132.73 JPY    121.95 JPY           JPY   37270.83480   \n",
            "15068         124.62 MXN    197.18 MXN           MXN    9103.84008   \n",
            "15069         223.15 MXN    483.72 MXN           MXN   11666.66480   \n",
            "15077         258.01 JPY    357.11 JPY           JPY   53834.48640   \n",
            "\n",
            "       Car Rental Addon $ Currency Car Rental Addon $ in USD  \\\n",
            "4                              JPY               30110.56080   \n",
            "5                              MXN                1894.35744   \n",
            "8                              JPY               43910.36160   \n",
            "30                             MXN                4207.68240   \n",
            "31                             JPY               24520.01040   \n",
            "...                            ...                       ...   \n",
            "15063                          MXN                4869.14688   \n",
            "15064                          JPY               19861.71720   \n",
            "15068                          MXN                2493.39696   \n",
            "15069                          MXN                4464.78520   \n",
            "15077                          JPY               38608.61640   \n",
            "\n",
            "       Hotel Addon $ Currency Hotel Addon $ in USD  \n",
            "4                         JPY          19215.27240  \n",
            "5                         MXN           9248.89808  \n",
            "8                         JPY          23013.13560  \n",
            "30                        MXN           9026.80928  \n",
            "31                        JPY          74239.39680  \n",
            "...                       ...                  ...  \n",
            "15063                     MXN           6306.92176  \n",
            "15064                     JPY          18248.59800  \n",
            "15068                     MXN           3945.17744  \n",
            "15069                     MXN           9678.26976  \n",
            "15077                     JPY          53437.94040  \n",
            "\n",
            "[2108 rows x 21 columns]\n",
            "Outliers in Car Rental Addon $ in USD:\n",
            "        Join Date  Frequent Flier Number First Name Last Name Flight Number  \\\n",
            "4     1988-07-08             7234617746     Debbie    Spears        DL9014   \n",
            "8     2022-06-16              551121699       Kyle     Boone        DL8341   \n",
            "23    1995-11-01             3414172587    Abigail      Dean        DL8361   \n",
            "27    1995-11-01             3414172587    Abigail      Dean        DL1873   \n",
            "30    1995-11-01             3414172587    Abigail      Dean        DL6783   \n",
            "...          ...                    ...        ...       ...           ...   \n",
            "15063 2018-11-15             2557356607     Jeremy       Kim        DL1885   \n",
            "15064 2018-11-15             2557356607     Jeremy       Kim        DL6957   \n",
            "15068 2018-11-15             2557356607     Jeremy       Kim        DL5264   \n",
            "15069 2018-11-15             2557356607     Jeremy       Kim        DL8406   \n",
            "15077 2007-03-24               64007954      Katie  Martinez        DL6168   \n",
            "\n",
            "      Flight Date  Departing City     Arrival City Departure Time  \\\n",
            "4      2025-08-31          Sydney         New York       22:38:00   \n",
            "8      2025-01-31          Sydney         New York       02:38:00   \n",
            "23     2024-11-30         Houston   Rio de Janeiro       23:38:00   \n",
            "27     2025-08-06  Rio de Janeiro      Los Angeles       00:38:00   \n",
            "30     2024-11-04          Dallas   Rio de Janeiro       03:38:00   \n",
            "...           ...             ...              ...            ...   \n",
            "15063  2024-09-12  Rio de Janeiro           Berlin       02:38:00   \n",
            "15064  2025-07-17          Boston           Sydney       08:38:00   \n",
            "15068  2025-05-16  Rio de Janeiro  Washington D.C.       09:38:00   \n",
            "15069  2025-01-23  Rio de Janeiro          Atlanta       09:38:00   \n",
            "15077  2024-09-18           Miami           Sydney       05:38:00   \n",
            "\n",
            "      Departure Time Zone  ... Arrival Time Zone        Cost  \\\n",
            "4                     UTC  ...               UTC  352.38 JPY   \n",
            "8                     UTC  ...               EST  918.58 JPY   \n",
            "23                    MST  ...               UTC  242.72 MXN   \n",
            "27                    UTC  ...               CST  249.76 MXN   \n",
            "30                    UTC  ...               UTC  654.87 MXN   \n",
            "...                   ...  ...               ...         ...   \n",
            "15063                 UTC  ...               UTC  451.54 MXN   \n",
            "15064                 PST  ...               UTC  249.07 JPY   \n",
            "15068                 UTC  ...               UTC  455.01 MXN   \n",
            "15069                 UTC  ...               MST   583.1 MXN   \n",
            "15077                 PST  ...               UTC  359.76 JPY   \n",
            "\n",
            "      Car Rental Addon $ Hotel Addon $ Cost Currency   Cost in USD  \\\n",
            "4             201.22 JPY    128.41 JPY           JPY   52730.14320   \n",
            "8             293.44 JPY    153.79 JPY           JPY  137456.31120   \n",
            "23            298.66 MXN     482.1 MXN           MXN    4856.34176   \n",
            "27            142.17 MXN    467.84 MXN           MXN    4997.19808   \n",
            "30             210.3 MXN    451.16 MXN           MXN   13102.63896   \n",
            "...                  ...           ...           ...           ...   \n",
            "15063         243.36 MXN    315.22 MXN           MXN    9034.41232   \n",
            "15064         132.73 JPY    121.95 JPY           JPY   37270.83480   \n",
            "15068         124.62 MXN    197.18 MXN           MXN    9103.84008   \n",
            "15069         223.15 MXN    483.72 MXN           MXN   11666.66480   \n",
            "15077         258.01 JPY    357.11 JPY           JPY   53834.48640   \n",
            "\n",
            "       Car Rental Addon $ Currency Car Rental Addon $ in USD  \\\n",
            "4                              JPY               30110.56080   \n",
            "8                              JPY               43910.36160   \n",
            "23                             MXN                5975.58928   \n",
            "27                             MXN                2844.53736   \n",
            "30                             MXN                4207.68240   \n",
            "...                            ...                       ...   \n",
            "15063                          MXN                4869.14688   \n",
            "15064                          JPY               19861.71720   \n",
            "15068                          MXN                2493.39696   \n",
            "15069                          MXN                4464.78520   \n",
            "15077                          JPY               38608.61640   \n",
            "\n",
            "       Hotel Addon $ Currency Hotel Addon $ in USD  \n",
            "4                         JPY          19215.27240  \n",
            "8                         JPY          23013.13560  \n",
            "23                        MXN           9645.85680  \n",
            "27                        MXN           9360.54272  \n",
            "30                        MXN           9026.80928  \n",
            "...                       ...                  ...  \n",
            "15063                     MXN           6306.92176  \n",
            "15064                     JPY          18248.59800  \n",
            "15068                     MXN           3945.17744  \n",
            "15069                     MXN           9678.26976  \n",
            "15077                     JPY          53437.94040  \n",
            "\n",
            "[2048 rows x 21 columns]\n",
            "Outliers in Hotel Addon $ in USD:\n",
            "        Join Date  Frequent Flier Number First Name Last Name Flight Number  \\\n",
            "4     1988-07-08             7234617746     Debbie    Spears        DL9014   \n",
            "5     1988-07-08             7234617746     Debbie    Spears        DL7806   \n",
            "8     2022-06-16              551121699       Kyle     Boone        DL8341   \n",
            "23    1995-11-01             3414172587    Abigail      Dean        DL8361   \n",
            "27    1995-11-01             3414172587    Abigail      Dean        DL1873   \n",
            "...          ...                    ...        ...       ...           ...   \n",
            "15061 2012-11-22              926596801      Allen    Murphy        DL5917   \n",
            "15063 2018-11-15             2557356607     Jeremy       Kim        DL1885   \n",
            "15064 2018-11-15             2557356607     Jeremy       Kim        DL6957   \n",
            "15069 2018-11-15             2557356607     Jeremy       Kim        DL8406   \n",
            "15077 2007-03-24               64007954      Katie  Martinez        DL6168   \n",
            "\n",
            "      Flight Date  Departing City    Arrival City Departure Time  \\\n",
            "4      2025-08-31          Sydney        New York       22:38:00   \n",
            "5      2024-11-06  Rio de Janeiro          Dallas       00:38:00   \n",
            "8      2025-01-31          Sydney        New York       02:38:00   \n",
            "23     2024-11-30         Houston  Rio de Janeiro       23:38:00   \n",
            "27     2025-08-06  Rio de Janeiro     Los Angeles       00:38:00   \n",
            "...           ...             ...             ...            ...   \n",
            "15061  2025-08-16         Houston          Sydney       05:38:00   \n",
            "15063  2024-09-12  Rio de Janeiro          Berlin       02:38:00   \n",
            "15064  2025-07-17          Boston          Sydney       08:38:00   \n",
            "15069  2025-01-23  Rio de Janeiro         Atlanta       09:38:00   \n",
            "15077  2024-09-18           Miami          Sydney       05:38:00   \n",
            "\n",
            "      Departure Time Zone  ... Arrival Time Zone        Cost  \\\n",
            "4                     UTC  ...               UTC  352.38 JPY   \n",
            "5                     UTC  ...               EST  497.17 MXN   \n",
            "8                     UTC  ...               EST  918.58 JPY   \n",
            "23                    MST  ...               UTC  242.72 MXN   \n",
            "27                    UTC  ...               CST  249.76 MXN   \n",
            "...                   ...  ...               ...         ...   \n",
            "15061                 EST  ...               UTC   891.0 JPY   \n",
            "15063                 UTC  ...               UTC  451.54 MXN   \n",
            "15064                 PST  ...               UTC  249.07 JPY   \n",
            "15069                 UTC  ...               MST   583.1 MXN   \n",
            "15077                 PST  ...               UTC  359.76 JPY   \n",
            "\n",
            "      Car Rental Addon $ Hotel Addon $ Cost Currency   Cost in USD  \\\n",
            "4             201.22 JPY    128.41 JPY           JPY   52730.14320   \n",
            "5              94.68 MXN    462.26 MXN           MXN    9947.37736   \n",
            "8             293.44 JPY    153.79 JPY           JPY  137456.31120   \n",
            "23            298.66 MXN     482.1 MXN           MXN    4856.34176   \n",
            "27            142.17 MXN    467.84 MXN           MXN    4997.19808   \n",
            "...                  ...           ...           ...           ...   \n",
            "15061          54.93 JPY    473.61 JPY           JPY  133329.24000   \n",
            "15063         243.36 MXN    315.22 MXN           MXN    9034.41232   \n",
            "15064         132.73 JPY    121.95 JPY           JPY   37270.83480   \n",
            "15069         223.15 MXN    483.72 MXN           MXN   11666.66480   \n",
            "15077         258.01 JPY    357.11 JPY           JPY   53834.48640   \n",
            "\n",
            "       Car Rental Addon $ Currency Car Rental Addon $ in USD  \\\n",
            "4                              JPY               30110.56080   \n",
            "5                              MXN                1894.35744   \n",
            "8                              JPY               43910.36160   \n",
            "23                             MXN                5975.58928   \n",
            "27                             MXN                2844.53736   \n",
            "...                            ...                       ...   \n",
            "15061                          JPY                8219.72520   \n",
            "15063                          MXN                4869.14688   \n",
            "15064                          JPY               19861.71720   \n",
            "15069                          MXN                4464.78520   \n",
            "15077                          JPY               38608.61640   \n",
            "\n",
            "       Hotel Addon $ Currency Hotel Addon $ in USD  \n",
            "4                         JPY          19215.27240  \n",
            "5                         MXN           9248.89808  \n",
            "8                         JPY          23013.13560  \n",
            "23                        MXN           9645.85680  \n",
            "27                        MXN           9360.54272  \n",
            "...                       ...                  ...  \n",
            "15061                     JPY          70871.00040  \n",
            "15063                     MXN           6306.92176  \n",
            "15064                     JPY          18248.59800  \n",
            "15069                     MXN           9678.26976  \n",
            "15077                     JPY          53437.94040  \n",
            "\n",
            "[2085 rows x 21 columns]\n"
          ]
        }
      ]
    },
    {
      "cell_type": "markdown",
      "source": [
        "##Convert to Binary\n",
        "\n"
      ],
      "metadata": {
        "id": "aKUNTs4jBPj7"
      }
    },
    {
      "cell_type": "code",
      "source": [
        "# Convert boolean columns ('Lounge Used?', 'Planned Snack?', 'Additional Snack?', 'Flight Delayed?') to binary (0 and 1)\n",
        "binary_columns = ['Lounge Used?', 'Planned Snack?', 'Additional Snack?', 'Flight Delayed?']\n",
        "df1[binary_columns] = df1[binary_columns].astype(int)\n",
        "\n",
        "# Display the DataFrame to confirm changes\n",
        "print(df1.head())"
      ],
      "metadata": {
        "colab": {
          "base_uri": "https://localhost:8080/"
        },
        "id": "3_jInm7pBS3_",
        "outputId": "310f2230-2c6f-45ae-abde-a1387de62bee"
      },
      "execution_count": 95,
      "outputs": [
        {
          "output_type": "stream",
          "name": "stdout",
          "text": [
            "  Record Creation Date  Join Date  Frequent Flier Number First Name Last Name  \\\n",
            "0           2024-02-27 1988-07-08           7.234618e+09     Debbie    Spears   \n",
            "1           2021-03-07 1988-07-08           7.234618e+09     Debbie    Spears   \n",
            "2           2023-01-31 1988-07-08           7.234618e+09     Debbie    Spears   \n",
            "3           2021-08-21 2022-06-16           5.511217e+08       Kyle     Boone   \n",
            "4           2022-03-01 2022-06-16           5.511217e+08       Kyle     Boone   \n",
            "\n",
            "    Inquiry Type Most Recent Flight #  Lounge Used? Departing Airport  \\\n",
            "0  Flight Status            G35206241             0               DFW   \n",
            "1     New Flight            V81311927             1               JFK   \n",
            "2  Cancel Flight            H82295055             0               MIA   \n",
            "3     New Flight            E39886834             1               SEA   \n",
            "4     New Flight            R04390271             1               SFO   \n",
            "\n",
            "  Arrival Airport  Planned Snack?  Additional Snack?  \\\n",
            "0             DEN               0                  1   \n",
            "1             SFO               0                  1   \n",
            "2             ORD               0                  0   \n",
            "3             DEN               0                  1   \n",
            "4             DFW               0                  0   \n",
            "\n",
            "   # of Included Checked Bags  Total # of Checked Bags  Flight Delayed?  \n",
            "0                         2.0                      7.0                1  \n",
            "1                         1.0                      6.0                0  \n",
            "2                         2.0                      5.0                1  \n",
            "3                         3.0                      8.0                0  \n",
            "4                         3.0                      5.0                0  \n"
          ]
        }
      ]
    },
    {
      "cell_type": "markdown",
      "source": [
        "# Feature Engineering"
      ],
      "metadata": {
        "id": "OEWvQRjO3iF8"
      }
    },
    {
      "cell_type": "markdown",
      "source": [
        "## Tenure (Join date - Oct 28, 2024)"
      ],
      "metadata": {
        "id": "Wcz04bAW8euu"
      }
    },
    {
      "cell_type": "code",
      "source": [
        "import pandas as pd\n",
        "from datetime import datetime\n",
        "\n",
        "# Convert 'Join Date' to datetime format if it's not already\n",
        "df2['Join Date'] = pd.to_datetime(df2['Join Date'])\n",
        "\n",
        "# Calculate tenure as the difference in days, months, or years\n",
        "today = datetime.today()\n",
        "df2['Tenure (Years)'] = (today - df2['Join Date']).dt.days / 365\n",
        "\n",
        "print(df2)"
      ],
      "metadata": {
        "colab": {
          "base_uri": "https://localhost:8080/"
        },
        "id": "cBW9Mo__3u1S",
        "outputId": "59cc214e-eed2-453c-f09f-55cd587313f4"
      },
      "execution_count": 96,
      "outputs": [
        {
          "output_type": "stream",
          "name": "stdout",
          "text": [
            "       Join Date  Frequent Flier Number First Name Last Name Flight Number  \\\n",
            "0     1988-07-08             7234617746     Debbie    Spears        DL1408   \n",
            "1     1988-07-08             7234617746     Debbie    Spears        DL3882   \n",
            "2     1988-07-08             7234617746     Debbie    Spears        DL4173   \n",
            "3     1988-07-08             7234617746     Debbie    Spears        DL8231   \n",
            "4     1988-07-08             7234617746     Debbie    Spears        DL9014   \n",
            "...          ...                    ...        ...       ...           ...   \n",
            "15073 2007-03-24               64007954      Katie  Martinez        DL3710   \n",
            "15074 2007-03-24               64007954      Katie  Martinez        DL5103   \n",
            "15075 2007-03-24               64007954      Katie  Martinez        DL2399   \n",
            "15076 2007-03-24               64007954      Katie  Martinez        DL3168   \n",
            "15077 2007-03-24               64007954      Katie  Martinez        DL6168   \n",
            "\n",
            "      Flight Date   Departing City Arrival City Departure Time  \\\n",
            "0      2025-04-14          Houston       London       09:38:00   \n",
            "1      2025-04-29           Boston        Dubai       02:38:00   \n",
            "2      2024-10-05            Dubai      Toronto       09:38:00   \n",
            "3      2025-04-30          Atlanta       Boston       00:38:00   \n",
            "4      2025-08-31           Sydney     New York       22:38:00   \n",
            "...           ...              ...          ...            ...   \n",
            "15073  2024-11-29            Miami        Tokyo       00:38:00   \n",
            "15074  2025-07-09            Tokyo  Mexico City       07:38:00   \n",
            "15075  2025-04-07  Washington D.C.  Los Angeles       22:38:00   \n",
            "15076  2024-10-28          Toronto       Boston       01:38:00   \n",
            "15077  2024-09-18            Miami       Sydney       05:38:00   \n",
            "\n",
            "      Departure Time Zone  ...        Cost Car Rental Addon $ Hotel Addon $  \\\n",
            "0                     CST  ...  613.83 USD         210.53 USD    195.49 USD   \n",
            "1                     MST  ...   741.1 AUD          51.58 AUD     323.6 AUD   \n",
            "2                     UTC  ...  191.79 AUD         151.44 AUD    369.05 AUD   \n",
            "3                     PST  ...  515.74 USD         164.58 USD    111.11 USD   \n",
            "4                     UTC  ...  352.38 JPY         201.22 JPY    128.41 JPY   \n",
            "...                   ...  ...         ...                ...           ...   \n",
            "15073                 CST  ...  765.05 EUR         225.49 EUR    154.44 EUR   \n",
            "15074                 UTC  ...   462.7 EUR         249.34 EUR    445.65 EUR   \n",
            "15075                 PST  ...  601.06 USD         270.47 USD    420.44 USD   \n",
            "15076                 UTC  ...  899.88 HKD         163.61 HKD    199.83 HKD   \n",
            "15077                 PST  ...  359.76 JPY         258.01 JPY    357.11 JPY   \n",
            "\n",
            "      Cost Currency Cost in USD Car Rental Addon $ Currency  \\\n",
            "0               USD    613.8300                         USD   \n",
            "1               AUD   1193.1710                         AUD   \n",
            "2               AUD    308.7819                         AUD   \n",
            "3               USD    515.7400                         USD   \n",
            "4               JPY  52730.1432                         JPY   \n",
            "...             ...         ...                         ...   \n",
            "15073           EUR    703.8460                         EUR   \n",
            "15074           EUR    425.6840                         EUR   \n",
            "15075           USD    601.0600                         USD   \n",
            "15076           HKD   7064.0580                         HKD   \n",
            "15077           JPY  53834.4864                         JPY   \n",
            "\n",
            "       Car Rental Addon $ in USD Hotel Addon $ Currency  Hotel Addon $ in USD  \\\n",
            "0                       210.5300                    USD              195.4900   \n",
            "1                        83.0438                    AUD              520.9960   \n",
            "2                       243.8184                    AUD              594.1705   \n",
            "3                       164.5800                    USD              111.1100   \n",
            "4                     30110.5608                    JPY            19215.2724   \n",
            "...                          ...                    ...                   ...   \n",
            "15073                   207.4508                    EUR              142.0848   \n",
            "15074                   229.3928                    EUR              409.9980   \n",
            "15075                   270.4700                    USD              420.4400   \n",
            "15076                  1284.3385                    HKD             1568.6655   \n",
            "15077                 38608.6164                    JPY            53437.9404   \n",
            "\n",
            "      Tenure (Years)  \n",
            "0          36.334247  \n",
            "1          36.334247  \n",
            "2          36.334247  \n",
            "3          36.334247  \n",
            "4          36.334247  \n",
            "...              ...  \n",
            "15073      17.613699  \n",
            "15074      17.613699  \n",
            "15075      17.613699  \n",
            "15076      17.613699  \n",
            "15077      17.613699  \n",
            "\n",
            "[15078 rows x 22 columns]\n"
          ]
        }
      ]
    },
    {
      "cell_type": "markdown",
      "source": [
        "## Average Yearly Spend per frequent flyer for the last 2 years"
      ],
      "metadata": {
        "id": "NBKvZBFdz-YH"
      }
    },
    {
      "cell_type": "code",
      "source": [
        "\n",
        "# Convert relevant columns to numeric if necessary\n",
        "df2['Cost in USD'] = df2['Cost in USD'].astype(float)\n",
        "df2['Car Rental Addon $ in USD'] = df2['Car Rental Addon $ in USD'].astype(float)\n",
        "df2['Hotel Addon $ in USD'] = df2['Hotel Addon $ in USD'].astype(float)\n",
        "\n",
        "# Ensure 'Flight Date' is in datetime format\n",
        "df2['Flight Date'] = pd.to_datetime(df2['Flight Date'])\n",
        "\n",
        "# Filter data to include only records from 2024 and 2025\n",
        "df2_filtered = df2[(df2['Flight Date'].dt.year == 2024) | (df2['Flight Date'].dt.year == 2025)]\n",
        "\n",
        "# Calculate the total spend per flight within the 2024-2025 timeframe\n",
        "df2_filtered['Total Spend in USD'] = (\n",
        "    df2_filtered['Cost in USD'] +\n",
        "    df2_filtered['Car Rental Addon $ in USD'] +\n",
        "    df2_filtered['Hotel Addon $ in USD']\n",
        ")\n",
        "\n",
        "# Group by Frequent Flier Number to calculate total spend over the two years (2024-2025)\n",
        "total_spend = df2_filtered.groupby('Frequent Flier Number')['Total Spend in USD'].sum().reset_index()\n",
        "total_spend.columns = ['Frequent Flier Number', 'Total Spend in USD (2024-2025)']\n",
        "\n",
        "# Calculate the average yearly spend over 2024-2025 (dividing total by 2 for two years)\n",
        "total_spend['Average Yearly Spend in USD'] = total_spend['Total Spend in USD (2024-2025)'] / 2\n",
        "\n",
        "# Calculate thresholds for tenure and average yearly spend\n",
        "tenure_threshold = df2['Tenure (Years)'].mean()  # or df2['Tenure (Years)'].median()\n",
        "yearly_spend_threshold = total_spend['Average Yearly Spend in USD'].mean()  # or use median\n",
        "\n",
        "# Merge the average yearly spend data back to the original data to use thresholds\n",
        "df2 = df2.merge(total_spend[['Frequent Flier Number', 'Average Yearly Spend in USD']], on='Frequent Flier Number', how='left')\n",
        "\n",
        "# Display the result and thresholds\n",
        "print(total_spend[['Frequent Flier Number', 'Average Yearly Spend in USD']])\n",
        "print(f\"Tenure Threshold: {tenure_threshold}\")\n",
        "print(f\"Yearly Spend Threshold: {yearly_spend_threshold}\")"
      ],
      "metadata": {
        "colab": {
          "base_uri": "https://localhost:8080/"
        },
        "id": "QW5vvJLyz9sO",
        "outputId": "2686f726-8220-4b2f-bbff-e01e48c9883e"
      },
      "execution_count": 97,
      "outputs": [
        {
          "output_type": "stream",
          "name": "stdout",
          "text": [
            "      Frequent Flier Number  Average Yearly Spend in USD\n",
            "0                   5445899                  75200.93520\n",
            "1                   5911884                   7029.21710\n",
            "2                   8157372                   8160.06770\n",
            "3                  10806849                  18897.30201\n",
            "4                  12109458                   7148.89905\n",
            "...                     ...                          ...\n",
            "1995             9985932564                  87305.96077\n",
            "1996             9986826496                   9278.13865\n",
            "1997             9989457726                  10132.84120\n",
            "1998             9994295877                  99350.49465\n",
            "1999             9998535377                  11397.10765\n",
            "\n",
            "[2000 rows x 2 columns]\n",
            "Tenure Threshold: 18.660344836984667\n",
            "Yearly Spend Threshold: 59354.313453484996\n"
          ]
        }
      ]
    },
    {
      "cell_type": "code",
      "source": [
        "import seaborn as sns\n",
        "\n",
        "# Distribution of Average Yearly Spend\n",
        "plt.figure(figsize=(12, 6))\n",
        "sns.histplot(df2['Average Yearly Spend in USD'], bins=30, kde=True)\n",
        "plt.axvline(yearly_spend_threshold, color='r', linestyle='--')\n",
        "plt.title('Distribution of Average Yearly Spend')\n",
        "plt.xlabel('Average Yearly Spend in USD')\n",
        "plt.ylabel('Frequency')\n",
        "plt.show()"
      ],
      "metadata": {
        "colab": {
          "base_uri": "https://localhost:8080/",
          "height": 508
        },
        "id": "kQzNKQXwj9XK",
        "outputId": "6f7b1019-fbd6-43f3-af83-936e9d8ac8c5"
      },
      "execution_count": 98,
      "outputs": [
        {
          "output_type": "display_data",
          "data": {
            "text/plain": [
              "<Figure size 1200x600 with 1 Axes>"
            ],
            "image/png": "[encoded data removed]"
          },
          "metadata": {}
        }
      ]
    },
    {
      "cell_type": "markdown",
      "source": [
        "show data before merge"
      ],
      "metadata": {
        "id": "ndGaZzAgm1w1"
      }
    },
    {
      "cell_type": "code",
      "source": [
        "print(\"Header Sheet 1 for df1 \\n\")\n",
        "# Print column names and their respective counts\n",
        "for column in df1.columns:\n",
        "    count = df1[column].count()  # Counts non-null entries in the column\n",
        "    print(f\"{column}: {count}\")\n",
        "\n",
        "\n",
        "print(\"Header Sheet 2 for df2 \\n\")\n",
        "# Print column names and their respective counts\n",
        "for column in df2.columns:\n",
        "    count = df2[column].count()  # Counts non-null entries in the column\n",
        "    print(f\"{column}: {count}\")"
      ],
      "metadata": {
        "colab": {
          "base_uri": "https://localhost:8080/"
        },
        "id": "-Ql_CdJom1ZE",
        "outputId": "6a52424b-e29d-440d-c358-ddceb879e4a3"
      },
      "execution_count": 99,
      "outputs": [
        {
          "output_type": "stream",
          "name": "stdout",
          "text": [
            "Header Sheet 1 for df1 \n",
            "\n",
            "Record Creation Date: 9211\n",
            "Join Date: 9211\n",
            "Frequent Flier Number: 9211\n",
            "First Name: 9211\n",
            "Last Name: 9211\n",
            "Inquiry Type: 9211\n",
            "Most Recent Flight #: 9211\n",
            "Lounge Used?: 9211\n",
            "Departing Airport: 9211\n",
            "Arrival Airport: 9211\n",
            "Planned Snack?: 9211\n",
            "Additional Snack?: 9211\n",
            "# of Included Checked Bags: 9211\n",
            "Total # of Checked Bags: 9211\n",
            "Flight Delayed?: 9211\n",
            "Header Sheet 2 for df2 \n",
            "\n",
            "Join Date: 15078\n",
            "Frequent Flier Number: 15078\n",
            "First Name: 15078\n",
            "Last Name: 15078\n",
            "Flight Number: 15078\n",
            "Flight Date: 15078\n",
            "Departing City: 15078\n",
            "Arrival City: 15078\n",
            "Departure Time: 15078\n",
            "Departure Time Zone: 15078\n",
            "Arrival Time: 15078\n",
            "Arrival Time Zone: 15078\n",
            "Cost: 15078\n",
            "Car Rental Addon $: 15078\n",
            "Hotel Addon $: 15078\n",
            "Cost Currency: 15078\n",
            "Cost in USD: 15078\n",
            "Car Rental Addon $ Currency: 15078\n",
            "Car Rental Addon $ in USD: 15078\n",
            "Hotel Addon $ Currency: 15078\n",
            "Hotel Addon $ in USD: 15078\n",
            "Tenure (Years): 15078\n",
            "Average Yearly Spend in USD: 15078\n"
          ]
        }
      ]
    },
    {
      "cell_type": "markdown",
      "source": [
        "## Merge the 2 dataframe"
      ],
      "metadata": {
        "id": "a3Wa4IpYF-h8"
      }
    },
    {
      "cell_type": "code",
      "source": [
        "# Select necessary columns from df1\n",
        "df1_relevant = df1[['Frequent Flier Number', 'Inquiry Type', 'Lounge Used?', 'Planned Snack?', 'Additional Snack?', 'Flight Delayed?']]\n",
        "\n",
        "# Merge df1 and df2 on 'Frequent Flier Number'\n",
        "merged_df = pd.merge(df1_relevant, df2, on='Frequent Flier Number', how='inner')\n",
        "\n",
        "print(\"Header merged sheet for merged_df \\n\")\n",
        "\n",
        "# Print column names and their respective counts\n",
        "for column in merged_df.columns:\n",
        "    count = merged_df[column].count()  # Counts non-null entries in the column\n",
        "    print(f\"{column}: {count}\")"
      ],
      "metadata": {
        "colab": {
          "base_uri": "https://localhost:8080/"
        },
        "id": "RGFeFPHqF-uw",
        "outputId": "35370b5d-df6f-46eb-eee6-66659d3e51db"
      },
      "execution_count": 100,
      "outputs": [
        {
          "output_type": "stream",
          "name": "stdout",
          "text": [
            "Header merged sheet for merged_df \n",
            "\n",
            "Frequent Flier Number: 69211\n",
            "Inquiry Type: 69211\n",
            "Lounge Used?: 69211\n",
            "Planned Snack?: 69211\n",
            "Additional Snack?: 69211\n",
            "Flight Delayed?: 69211\n",
            "Join Date: 69211\n",
            "First Name: 69211\n",
            "Last Name: 69211\n",
            "Flight Number: 69211\n",
            "Flight Date: 69211\n",
            "Departing City: 69211\n",
            "Arrival City: 69211\n",
            "Departure Time: 69211\n",
            "Departure Time Zone: 69211\n",
            "Arrival Time: 69211\n",
            "Arrival Time Zone: 69211\n",
            "Cost: 69211\n",
            "Car Rental Addon $: 69211\n",
            "Hotel Addon $: 69211\n",
            "Cost Currency: 69211\n",
            "Cost in USD: 69211\n",
            "Car Rental Addon $ Currency: 69211\n",
            "Car Rental Addon $ in USD: 69211\n",
            "Hotel Addon $ Currency: 69211\n",
            "Hotel Addon $ in USD: 69211\n",
            "Tenure (Years): 69211\n",
            "Average Yearly Spend in USD: 69211\n"
          ]
        }
      ]
    },
    {
      "cell_type": "markdown",
      "source": [
        "## One-hot encoding for the inquiry type"
      ],
      "metadata": {
        "id": "0gapGjFT_FCu"
      }
    },
    {
      "cell_type": "code",
      "source": [
        "# One-hot encode the 'Inquiry Type' column\n",
        "merged_df = pd.get_dummies(merged_df, columns=['Inquiry Type'], prefix='Inquiry')\n",
        "\n",
        "\n",
        "# Print column names and their respective counts\n",
        "for column in merged_df.columns:\n",
        "    count = merged_df[column].count()  # Counts non-null entries in the column\n",
        "    print(f\"{column}: {count}\")"
      ],
      "metadata": {
        "colab": {
          "base_uri": "https://localhost:8080/"
        },
        "id": "fq_j6Ykv_wdg",
        "outputId": "25c184dc-269f-4700-84c1-55226f8f0a60"
      },
      "execution_count": 101,
      "outputs": [
        {
          "output_type": "stream",
          "name": "stdout",
          "text": [
            "Frequent Flier Number: 69211\n",
            "Lounge Used?: 69211\n",
            "Planned Snack?: 69211\n",
            "Additional Snack?: 69211\n",
            "Flight Delayed?: 69211\n",
            "Join Date: 69211\n",
            "First Name: 69211\n",
            "Last Name: 69211\n",
            "Flight Number: 69211\n",
            "Flight Date: 69211\n",
            "Departing City: 69211\n",
            "Arrival City: 69211\n",
            "Departure Time: 69211\n",
            "Departure Time Zone: 69211\n",
            "Arrival Time: 69211\n",
            "Arrival Time Zone: 69211\n",
            "Cost: 69211\n",
            "Car Rental Addon $: 69211\n",
            "Hotel Addon $: 69211\n",
            "Cost Currency: 69211\n",
            "Cost in USD: 69211\n",
            "Car Rental Addon $ Currency: 69211\n",
            "Car Rental Addon $ in USD: 69211\n",
            "Hotel Addon $ Currency: 69211\n",
            "Hotel Addon $ in USD: 69211\n",
            "Tenure (Years): 69211\n",
            "Average Yearly Spend in USD: 69211\n",
            "Inquiry_Cancel Flight: 69211\n",
            "Inquiry_Flight Deal: 69211\n",
            "Inquiry_Flight Status: 69211\n",
            "Inquiry_New Flight: 69211\n"
          ]
        }
      ]
    },
    {
      "cell_type": "code",
      "source": [],
      "metadata": {
        "id": "QnOBYjGE_EzL"
      },
      "execution_count": 101,
      "outputs": []
    },
    {
      "cell_type": "markdown",
      "source": [
        "#Linear Regression\n"
      ],
      "metadata": {
        "id": "akXAjhYnmDzi"
      }
    },
    {
      "cell_type": "code",
      "source": [
        "import pandas as pd\n",
        "from sklearn.model_selection import train_test_split\n",
        "from sklearn.linear_model import LinearRegression\n",
        "from sklearn.metrics import mean_squared_error, mean_absolute_error, r2_score\n",
        "import matplotlib.pyplot as plt\n",
        "\n",
        "# Example: using quantiles\n",
        "threshold_years = merged_df['Tenure (Years)'].quantile(0.75)  # Using 75th percentile\n",
        "yearly_spend_threshold = merged_df['Average Yearly Spend in USD'].quantile(0.25) # Using 25th percentile\n",
        "\n",
        "# Define a target column 'Attrition' (1 for inactive, 0 for active)\n",
        "#df2['Attrition'] = (df2['Tenure (Years)'] > tenure_threshold) | (df2['Average Yearly Spend in USD'] < yearly_spend_threshold) | df2['Number of Flights'] > flight_threshold\n",
        "\n",
        "merged_df['Attrition'] = ((merged_df['Tenure (Years)'] < tenure_threshold) |\n",
        "                          (merged_df['Average Yearly Spend in USD'] < yearly_spend_threshold)\n",
        " #                        | (merged_df['Number of Flights'] > flight_threshold)\n",
        "                         )\n",
        "\n",
        "\n",
        "# Define features (X) and target (y)\n",
        "X = merged_df[[ 'Lounge Used?', 'Planned Snack?', 'Additional Snack?', 'Flight Delayed?','Tenure (Years)', 'Average Yearly Spend in USD'\n",
        "                  ,'Inquiry_Cancel Flight',\n",
        "                  'Inquiry_Flight Deal',\n",
        "                  'Inquiry_Flight Status',\n",
        "                  'Inquiry_New Flight',\n",
        "                #'Number of Flights'\n",
        "                ]]\n",
        "y = merged_df['Attrition'].astype(float)  # Cast to float for linear regression\n",
        "\n",
        "# Split data into training and testing sets\n",
        "X_train, X_test, y_train, y_test = train_test_split(X, y, test_size=0.2, random_state=42)\n",
        "\n",
        "# Fit linear regression model\n",
        "linear_model = LinearRegression()\n",
        "linear_model.fit(X_train, y_train)\n",
        "\n",
        "# Make predictions and evaluate\n",
        "y_pred = linear_model.predict(X_test)\n",
        "mse = mean_squared_error(y_test, y_pred)\n",
        "mae = mean_absolute_error(y_test, y_pred)\n",
        "r2 = r2_score(y_test, y_pred)\n",
        "\n",
        "print(\"Mean Squared Error:\", mse)\n",
        "print(\"Mean Absolute Error:\", mae)\n",
        "print(\"R-squared:\", r2)\n",
        "\n",
        "# Display predicted attrition scores (probabilities)\n",
        "print(\"Predicted Attrition Scores:\\n\", y_pred)\n",
        "\n",
        "# Scatter plot for Actual vs Predicted Attrition Scores\n",
        "plt.figure(figsize=(10, 6))\n",
        "plt.scatter(y_test, y_pred, alpha=0.5, color='blue', label='Predicted vs Actual')\n",
        "\n",
        "# Line for perfect prediction\n",
        "plt.plot([-1, 1], [-1, 1], color='red', linestyle='--', label='Perfect Prediction')\n",
        "\n",
        "# Set limits for axes\n",
        "plt.ylim(-1, 2)  # Predicted values range from -1 to 1\n",
        "plt.xlim(-1, 2)   # Actual values are 0 or 1\n",
        "\n",
        "# Labels and title\n",
        "plt.xlabel(\"Actual Attrition (0 = Active, 1 = Inactive)\")\n",
        "plt.ylabel(\"Predicted Attrition Score\")\n",
        "plt.title(\"Predicted vs Actual Attrition Scores\")\n",
        "\n",
        "# Display legend and plot\n",
        "plt.legend()\n",
        "plt.grid(True)\n",
        "plt.show()"
      ],
      "metadata": {
        "colab": {
          "base_uri": "https://localhost:8080/",
          "height": 653
        },
        "id": "B6i9xEyC_umC",
        "outputId": "fe000852-9b29-4d3e-bebf-2d89a449c1c8"
      },
      "execution_count": 102,
      "outputs": [
        {
          "output_type": "stream",
          "name": "stdout",
          "text": [
            "Mean Squared Error: 0.11931311530484429\n",
            "Mean Absolute Error: 0.2843934263283781\n",
            "R-squared: 0.4867306037644137\n",
            "Predicted Attrition Scores:\n",
            " [0.4285706  0.59128907 1.04334533 ... 0.94843814 0.76782185 0.37621122]\n"
          ]
        },
        {
          "output_type": "display_data",
          "data": {
            "text/plain": [
              "<Figure size 1000x600 with 1 Axes>"
            ],
            "image/png": "[encoded data removed]"
          },
          "metadata": {}
        }
      ]
    },
    {
      "cell_type": "markdown",
      "source": [
        "# Logistic Regression"
      ],
      "metadata": {
        "id": "-KECVpqKSpOl"
      }
    },
    {
      "cell_type": "code",
      "source": [
        "import pandas as pd\n",
        "from sklearn.model_selection import train_test_split\n",
        "from sklearn.linear_model import LogisticRegression\n",
        "from sklearn.metrics import accuracy_score, confusion_matrix, classification_report\n",
        "import matplotlib.pyplot as plt\n",
        "import seaborn as sns\n",
        "\n",
        "# Define the threshold values for attrition based on tenure and average monthly spend\n",
        "#threshold_years = df2['Tenure (Years)'].mean()  # or median as an alternative threshold\n",
        "#yearly_spend_threshold = df2['Average Yearly Spend in USD'].mean()\n",
        "\n",
        "# Example: using quantiles\n",
        "threshold_years = merged_df['Tenure (Years)'].quantile(0.75)  # Using 75th percentile\n",
        "yearly_spend_threshold = merged_df['Average Yearly Spend in USD'].quantile(0.25) # Using 25th percentile\n",
        "\n",
        "# Define the 'Attrition' target column (1 for inactive, 0 for active)\n",
        "df2['Attrition'] = ((merged_df['Tenure (Years)'] > threshold_years) |\n",
        "                    (merged_df['Average Yearly Spend in USD'] < yearly_spend_threshold)\n",
        "#                    | (merged_df['Number of Flights'] > flight_threshold)\n",
        "                    ).astype(int)\n",
        "\n",
        "# Check for class imbalance in the target variable\n",
        "print(merged_df['Attrition'].value_counts())\n",
        "\n",
        "\n",
        "# Define features (X) and target (y)\n",
        "X = merged_df[['Lounge Used?', 'Planned Snack?', 'Additional Snack?', 'Flight Delayed?','Tenure (Years)', 'Average Yearly Spend in USD'\n",
        "                  ,'Inquiry_Cancel Flight',\n",
        "                  'Inquiry_Flight Deal',\n",
        "                  'Inquiry_Flight Status',\n",
        "                  'Inquiry_New Flight',#,'Number of Flights'\n",
        "         ]]\n",
        "y = merged_df['Attrition']\n",
        "\n",
        "# Split data into training and testing sets\n",
        "X_train, X_test, y_train, y_test = train_test_split(X, y, test_size=0.2, random_state=42)\n",
        "\n",
        "# Fit logistic regression model\n",
        "logistic_model = LogisticRegression(max_iter=200, class_weight='balanced')\n",
        "logistic_model.fit(X_train, y_train)\n",
        "\n",
        "# Make predictions and evaluate\n",
        "y_pred = logistic_model.predict(X_test)\n",
        "y_pred_prob = logistic_model.predict_proba(X_test)[:, 1]  # Probability of class 1 (inactive)\n",
        "\n",
        "# Print evaluation metrics\n",
        "print(\"Accuracy:\", accuracy_score(y_test, y_pred))\n",
        "print(\"Confusion Matrix:\\n\", confusion_matrix(y_test, y_pred))\n",
        "print(\"Classification Report:\\n\", classification_report(y_test, y_pred))\n",
        "\n",
        "# Plotting Actual vs Predicted Attrition\n",
        "plt.figure(figsize=(10, 6))\n",
        "plt.scatter(y_test, y_pred_prob, alpha=0.5, color='blue', label='Predicted Probability')\n",
        "plt.ylim(-0.1, 1.1)  # Predicted values between 0 and 1\n",
        "plt.xlim(-0.1, 1.1)  # Actual values are 0 or 1\n",
        "plt.xlabel(\"Actual Attrition (0 = Active, 1 = Inactive)\")\n",
        "plt.ylabel(\"Predicted Attrition Probability\")\n",
        "plt.title(\"Actual vs Predicted Attrition Probability\")\n",
        "plt.axhline(0.5, color='red', linestyle='--', label='Decision Boundary (0.5)')\n",
        "plt.legend()\n",
        "plt.grid(True)\n",
        "plt.show()"
      ],
      "metadata": {
        "colab": {
          "base_uri": "https://localhost:8080/",
          "height": 885
        },
        "id": "XFv6LQB5_JdU",
        "outputId": "2ed52ef7-b1c3-4e95-ed74-4b89aba19533"
      },
      "execution_count": 103,
      "outputs": [
        {
          "output_type": "stream",
          "name": "stdout",
          "text": [
            "Attrition\n",
            "True     43563\n",
            "False    25648\n",
            "Name: count, dtype: int64\n",
            "Accuracy: 0.8480820631366034\n",
            "Confusion Matrix:\n",
            " [[4461  627]\n",
            " [1476 7279]]\n",
            "Classification Report:\n",
            "               precision    recall  f1-score   support\n",
            "\n",
            "       False       0.75      0.88      0.81      5088\n",
            "        True       0.92      0.83      0.87      8755\n",
            "\n",
            "    accuracy                           0.85     13843\n",
            "   macro avg       0.84      0.85      0.84     13843\n",
            "weighted avg       0.86      0.85      0.85     13843\n",
            "\n"
          ]
        },
        {
          "output_type": "display_data",
          "data": {
            "text/plain": [
              "<Figure size 1000x600 with 1 Axes>"
            ],
            "image/png": "[encoded data removed]"
          },
          "metadata": {}
        }
      ]
    },
    {
      "cell_type": "markdown",
      "source": [
        "## Test case prediction"
      ],
      "metadata": {
        "id": "V7qtp1C9JaFy"
      }
    },
    {
      "cell_type": "code",
      "source": [
        "\n",
        "\n",
        "# Initialize first_name and last_name to None in case they are not found\n",
        "first_name = None\n",
        "last_name = None\n",
        "\n",
        "# Step 1: Locate data\n",
        "test_case = merged_df[(merged_df['Frequent Flier Number'] == 7234617746)]\n",
        "\n",
        "# Ensure we have data for the specified frequent flyer number\n",
        "if test_case.empty:\n",
        "    print(\"Test case data not found.\")\n",
        "else:\n",
        "    first_name = test_case['First Name'].values[0]\n",
        "    last_name = test_case['Last Name'].values[0]\n",
        "\n",
        "    # Display thresholds for clarity\n",
        "    print(\"Thresholds Used - Tenure:\", tenure_threshold, \" | Yearly Spend:\", yearly_spend_threshold,\"\\n\")\n",
        "\n",
        "    # Step 2: Ensure required columns are present\n",
        "    X_test_case = test_case[['Lounge Used?', 'Planned Snack?', 'Additional Snack?', 'Flight Delayed?', 'Tenure (Years)', 'Average Yearly Spend in USD'\n",
        "                  ,'Inquiry_Cancel Flight',\n",
        "                  'Inquiry_Flight Deal',\n",
        "                  'Inquiry_Flight Status',\n",
        "                  'Inquiry_New Flight',\n",
        "                  ]]\n",
        "\n",
        "    ## ---- Linear Regression Test Prediction ---- ##\n",
        "    # Predict attrition likelihood with linear regression\n",
        "    linear_pred = linear_model.predict(X_test_case)\n",
        "    predicted_score = linear_pred[0]  # Get the first (and only) prediction\n",
        "    print(f\"Linear Regression Prediction for {first_name} {last_name} (Attrition Score):\", predicted_score)\n",
        "    print(\"R-squared:\", r2)#,\"\\n\"==)\n",
        "\n",
        "    # Define threshold for interpretation\n",
        "    threshold = 0.5\n",
        "\n",
        "    # Interpret the result based on the threshold\n",
        "    if predicted_score >= threshold:\n",
        "        status = \"likely not to remain a frequent flyer.\"\n",
        "    else:\n",
        "        status = \"likely to remain a frequent flyer.\"\n",
        "\n",
        "    print(f\"Based on the linear prediction, {first_name} {last_name} is {status}\\n\")\n",
        "\n",
        "    ## ---- Logistic Regression Test Prediction ---- ##\n",
        "    # Predict attrition class (0 or 1) and probability with logistic regression\n",
        "    logistic_pred_class = logistic_model.predict(X_test_case)\n",
        "    logistic_pred_prob = logistic_model.predict_proba(X_test_case)[:, 1]  # Probability for class 1 (inactive)\n",
        "\n",
        "    # Print the logistic regression predictions\n",
        "    print(f\"Logistic Regression Class Prediction for {first_name} {last_name} (Attrition):\", logistic_pred_class[0])\n",
        "    print(f\"Logistic Regression Probability Prediction for {first_name} {last_name} (Inactive):\", logistic_pred_prob[0])\n",
        "    print(\"Accuracy:\", accuracy_score(y_test, y_pred))#,'\\n')\n",
        "\n",
        "    # Step 3: Interpret the results\n",
        "    # Interpret logistic prediction class\n",
        "    if logistic_pred_class[0] == 1:\n",
        "        # 1 means likely inactive\n",
        "        status = \"likely to not remain a frequent flyer.\"\n",
        "    else:\n",
        "        # 0 means likely active\n",
        "        status = \"likely to remain a frequent flyer.\"\n",
        "\n",
        "    print(f\"Based on the predictions, {first_name} {last_name} is {status}\\n\")"
      ],
      "metadata": {
        "id": "Up6WNhPCUnuP",
        "colab": {
          "base_uri": "https://localhost:8080/"
        },
        "outputId": "927c2b01-efcb-4b96-e9a0-762bdbca0a9a"
      },
      "execution_count": 104,
      "outputs": [
        {
          "output_type": "stream",
          "name": "stdout",
          "text": [
            "Thresholds Used - Tenure: 18.660344836984667  | Yearly Spend: 12781.71105 \n",
            "\n",
            "Linear Regression Prediction for Debbie Spears (Attrition Score): 0.10517235352363663\n",
            "R-squared: 0.4867306037644137\n",
            "Based on the linear prediction, Debbie Spears is likely to remain a frequent flyer.\n",
            "\n",
            "Logistic Regression Class Prediction for Debbie Spears (Attrition): False\n",
            "Logistic Regression Probability Prediction for Debbie Spears (Inactive): 0.020566894506464917\n",
            "Accuracy: 0.8480820631366034\n",
            "Based on the predictions, Debbie Spears is likely to remain a frequent flyer.\n",
            "\n"
          ]
        }
      ]
    },
    {
      "cell_type": "markdown",
      "source": [
        "Here’s the modified code that removes duplicates, adds the counts for both “not likely to remain a frequent flyer” and “likely to remain a frequent flyer,” and provides a comprehensive summary of the results:"
      ],
      "metadata": {
        "id": "jh6684rPwaPV"
      }
    },
    {
      "cell_type": "code",
      "source": [
        "import pandas as pd\n",
        "from sklearn.linear_model import LinearRegression, LogisticRegression\n",
        "\n",
        "# Assuming linear_model and logistic_model are already trained\n",
        "\n",
        "# Step 1: Prepare the feature set for all frequent flyers\n",
        "feature_columns = [\n",
        "    'Lounge Used?', 'Planned Snack?', 'Additional Snack?',\n",
        "    'Flight Delayed?', 'Tenure (Years)', 'Average Yearly Spend in USD',\n",
        "    'Inquiry_Cancel Flight', 'Inquiry_Flight Deal',\n",
        "    'Inquiry_Flight Status', 'Inquiry_New Flight'\n",
        "]\n",
        "\n",
        "# Ensure the necessary columns are in the merged_df\n",
        "X_all = merged_df[feature_columns]\n",
        "\n",
        "# Step 2: Make predictions for all frequent flyers\n",
        "# Linear regression prediction\n",
        "linear_preds = linear_model.predict(X_all)\n",
        "\n",
        "# Logistic regression predictions\n",
        "logistic_preds_class = logistic_model.predict(X_all)\n",
        "logistic_preds_prob = logistic_model.predict_proba(X_all)[:, 1]  # Probability for class 1 (inactive)\n",
        "\n",
        "# Step 3: Add predictions to the dataframe\n",
        "merged_df['Linear_Pred_Score'] = linear_preds\n",
        "merged_df['Logistic_Pred_Class'] = logistic_preds_class\n",
        "merged_df['Logistic_Pred_Prob'] = logistic_preds_prob\n",
        "\n",
        "# Define a threshold for attrition (0.5)\n",
        "threshold = 0.5\n",
        "\n",
        "# Step 4: Determine likelihood of remaining a frequent flyer\n",
        "merged_df['Linear_Status'] = merged_df['Linear_Pred_Score'].apply(lambda x: 'not likely to remain a frequent flyer' if x >= threshold else 'likely to remain a frequent flyer')\n",
        "merged_df['Logistic_Status'] = merged_df['Logistic_Pred_Class'].apply(lambda x: 'not likely to remain a frequent flyer' if x == 1 else 'likely to remain a frequent flyer')\n",
        "\n",
        "# Step 5: Remove duplicates\n",
        "merged_df = merged_df.drop_duplicates(subset=['Frequent Flier Number'])\n",
        "\n",
        "# Step 6: Count the number of flyers in each status category\n",
        "status_counts = merged_df['Linear_Status'].value_counts().rename_axis('Status').reset_index(name='Count')\n",
        "\n",
        "# Step 7: Filter for those who are likely not to remain\n",
        "not_likely_to_remain_linear = merged_df[merged_df['Linear_Status'] == 'not likely to remain a frequent flyer']\n",
        "likely_to_remain_linear = merged_df[merged_df['Linear_Status'] == 'likely to remain a frequent flyer']\n",
        "\n",
        "# Step 8: Display results\n",
        "#print(\"Frequent Flyers Not Likely to Remain (Linear Regression):\")\n",
        "#print(not_likely_to_remain_linear[['Frequent Flier Number', 'First Name', 'Last Name', 'Linear_Pred_Score', 'Linear_Status']])\n",
        "\n",
        "#print(\"\\nFrequent Flyers Likely to Remain (Linear Regression):\")\n",
        "#print(likely_to_remain_linear[['Frequent Flier Number', 'First Name', 'Last Name', 'Linear_Pred_Score', 'Linear_Status']])\n",
        "\n",
        "print(\"\\nCount of Frequent Flyers by Status (Linear Regression):\")\n",
        "print(status_counts)"
      ],
      "metadata": {
        "colab": {
          "base_uri": "https://localhost:8080/"
        },
        "id": "wns8dreYwZo_",
        "outputId": "2919afc3-c480-47bd-bc55-c3487ceb22ac"
      },
      "execution_count": 107,
      "outputs": [
        {
          "output_type": "stream",
          "name": "stdout",
          "text": [
            "\n",
            "Count of Frequent Flyers by Status (Linear Regression):\n",
            "                                  Status  Count\n",
            "0  not likely to remain a frequent flyer   1230\n",
            "1      likely to remain a frequent flyer    770\n"
          ]
        }
      ]
    },
    {
      "cell_type": "markdown",
      "source": [],
      "metadata": {
        "id": "kG_knHxN4SQh"
      }
    }
  ]
}